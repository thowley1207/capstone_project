{
  "nbformat": 4,
  "nbformat_minor": 0,
  "metadata": {
    "colab": {
      "provenance": [],
      "authorship_tag": "ABX9TyOXAkly+tR6A4Fsflv6+sPo",
      "include_colab_link": true
    },
    "kernelspec": {
      "name": "python3",
      "display_name": "Python 3"
    },
    "language_info": {
      "name": "python"
    }
  },
  "cells": [
    {
      "cell_type": "markdown",
      "metadata": {
        "id": "view-in-github",
        "colab_type": "text"
      },
      "source": [
        "<a href=\"https://colab.research.google.com/github/thowley1207/capstone_project/blob/main/01_obtain_and_combine_sec_master_index.ipynb\" target=\"_parent\"><img src=\"https://colab.research.google.com/assets/colab-badge.svg\" alt=\"Open In Colab\"/></a>"
      ]
    },
    {
      "cell_type": "code",
      "execution_count": null,
      "metadata": {
        "id": "jWBEqhQqaTAk"
      },
      "outputs": [],
      "source": [
        "!pip install --upgrade wrds\n",
        "!wget https://raw.githubusercontent.com/thowley0824/capstone/main/colab_initialization/initializer.py\n",
        "\n",
        "import json\n",
        "import pandas as pd\n",
        "import pathlib\n",
        "import numpy as np\n",
        "import requests\n",
        "import zipfile\n",
        "\n",
        "import initializer\n",
        "initializer.initialize_colab()\n",
        "db = initializer.initialize_wrds_connection()"
      ]
    },
    {
      "cell_type": "code",
      "source": [
        "def convert_and_format_df(records,\n",
        "                          required_cols = None,\n",
        "                          float_cols = None,\n",
        "                          int_cols = None,\n",
        "                          date_cols = None):\n",
        "\n",
        "    if required_cols is not None:\n",
        "        df = pd.DataFrame.from_records(records)[list(required_cols)]\n",
        "    else:\n",
        "        df = pd.DataFrame.from_records(records)\n",
        "\n",
        "    df.columns = df.columns.str.lower().str.replace(' ', '_')\n",
        "\n",
        "    if float_cols is not None:\n",
        "        for col in float_cols:\n",
        "            col_mod = col.lower().replace(' ', '_')\n",
        "            df[col_mod] = df[col_mod].astype(float)\n",
        "\n",
        "    if int_cols is not None:\n",
        "        for col in int_cols:\n",
        "            col_mod = col.lower().replace(' ', '_')\n",
        "            df[col_mod] = df[col_mod].astype(int)\n",
        "\n",
        "    if date_cols is not None:\n",
        "        for col in date_cols:\n",
        "            col_mod = col.lower().replace(' ', '_')\n",
        "            df[col_mod] = pd.to_datetime(df[col_mod])\n",
        "\n",
        "    if 'year' in df.columns and 'quarter' in df.columns:\n",
        "        df['period'] = (df['year'].astype(str\n",
        "                              ) + '0' + df['quarter'].astype(str)\n",
        "                              ).astype(int)\n",
        "\n",
        "    return df"
      ],
      "metadata": {
        "id": "QCOM4t_7aZZ4"
      },
      "execution_count": null,
      "outputs": []
    },
    {
      "cell_type": "code",
      "source": [
        "def download_and_write_index_file(\n",
        "        output_subdir = 'data/sec_edgar/edgar_index_quarterly',\n",
        "        year = 2017,\n",
        "        quarter = 4,\n",
        "        **headers):\n",
        "\n",
        "    if not pathlib.Path(output_subdir).exists():\n",
        "        print('Creating output directory')\n",
        "        pathlib.Path.mkdir(pathlib.Path(output_subdir),parents=True)\n",
        "\n",
        "    output_file_name = f'{year}_QTR{quarter}_master.zip'\n",
        "    output_loc = pathlib.Path.cwd() / output_subdir / output_file_name\n",
        "\n",
        "    url_prefix = 'https://www.sec.gov/Archives/edgar/full-index/'\n",
        "    url_suffix = f'{year}/QTR{quarter}/master.zip'\n",
        "\n",
        "    request_args = {'url': f'{url_prefix}{url_suffix}'}\n",
        "    if len(headers) > 0:\n",
        "      request_args['headers'] = headers\n",
        "\n",
        "    output_loc.write_bytes(requests.get(**request_args).content)\n",
        "\n",
        "    print(f'Output written: {output_loc}')\n",
        "\n",
        "    return output_loc"
      ],
      "metadata": {
        "id": "Ti5-lFrcaZgi"
      },
      "execution_count": null,
      "outputs": []
    },
    {
      "cell_type": "code",
      "source": [
        "def read_and_process_index_data(zipped_output,\n",
        "                                form_type,\n",
        "                                year,\n",
        "                                quarter):\n",
        "\n",
        "    period = {'year': year, 'quarter': quarter}\n",
        "    index_labels = 'CIK|Company Name|Form Type|Date Filed|Filename'\n",
        "\n",
        "    with zipfile.ZipFile(zipped_output, mode=\"r\") as index_data:\n",
        "        index_text = index_data.read(\"master.idx\").decode(\n",
        "            encoding=\"ISO-8859-1\").split(\"\\r\\n\")\n",
        "\n",
        "    index_dicts = [{a:b for (a,b) in zip(index_labels.split('|'),\n",
        "                                         row.split('|'))}\n",
        "                for row in index_text if f'|{form_type}|' in row]\n",
        "\n",
        "    index_record = [{**period, **row} for row in index_dicts]\n",
        "\n",
        "    return index_record"
      ],
      "metadata": {
        "id": "e5ez0VdsaZjW"
      },
      "execution_count": null,
      "outputs": []
    },
    {
      "cell_type": "code",
      "source": [
        "def create_and_write_index_df(index_records,\n",
        "                              output_file_name,\n",
        "                              output_dir = 'data/',\n",
        "                              form_type = '8-K',\n",
        "                              **df_column_specs):\n",
        "\n",
        "    if not pathlib.Path(output_dir).exists():\n",
        "        print('Creating output directory')\n",
        "        pathlib.Path.mkdir(pathlib.Path(output_dir),parents=True)\n",
        "\n",
        "    if form_type == '8-K':\n",
        "        output_file_prefix = '8k_'\n",
        "    else:\n",
        "        output_file_prefix = ''\n",
        "\n",
        "    output_file = f\"{output_dir}{output_file_prefix}{output_file_name}\"\n",
        "\n",
        "    df_combined_indices = convert_and_format_df(index_records,\n",
        "                                                **df_column_specs\n",
        "                            ).rename(columns={\"date_filed\": \"event_date\"}\n",
        "                                     ).reset_index(names = ['event_id'])\n",
        "\n",
        "    df_combined_indices.to_pickle(output_file)\n",
        "\n",
        "    return df_combined_indices"
      ],
      "metadata": {
        "id": "NVAHRkB0aZl5"
      },
      "execution_count": null,
      "outputs": []
    },
    {
      "cell_type": "code",
      "source": [
        "'''\n",
        "Create year-quarter dict for use in iteratively retreiving and\n",
        "processing index data from Edgar\n",
        "'''\n",
        "\n",
        "reporting_periods = [dict(\n",
        "    zip(('year','quarter'), period\n",
        "        )) for period in ((year, quarter\n",
        "                           ) for year in range(2005,2019\n",
        "                                               ) for quarter in range(1,5\n",
        "                                                                      ))]\n",
        "\n",
        "'''\n",
        "Define all function parameters required to step through the data\n",
        "retrieval and conversion process\n",
        "'''\n",
        "raw_index_data_dir = 'data/sec_edgar/edgar_index_quarterly'\n",
        "header_content = {'User-Agent': 'Georgia Tech thowley3@georgiatech.edu',\n",
        "                  'Accept-Encoding': 'deflate, gzip',\n",
        "                  'Host': 'www.sec.gov'}\n",
        "form = '8-K'\n",
        "\n",
        "master_index_all_periods_file_name = 'master_index_all_periods.pkl'\n",
        "master_index_all_periods_col_specs = {'required_cols': ('year',\n",
        "                                                        'quarter',\n",
        "                                                        'CIK',\n",
        "                                                        'Date Filed',\n",
        "                                                        'Filename'),\n",
        "                                      'int_cols': ('year',\n",
        "                                                   'quarter',\n",
        "                                                   'cik'),\n",
        "                                      'date_cols': ('date_filed',)}\n",
        "\n",
        "'''\n",
        "(1) Create an empty list for holding the single period index dictionaries\n",
        "(2) Iterating through each year-quarter period:\n",
        "    (a) Download and write the period's raw index file\n",
        "    (b) Read the period's raw index file and convert to a dictionary\n",
        "    (c) Add the dataframe to the list of single period dictionaries\n",
        "(3) Convert the list of index dictionaries to a single combined df\n",
        "    - As specified, drop unneeded columns and convert types\n",
        "(4) Write the dataframe output to pickle in specified location\n",
        "'''\n",
        "\n",
        "record_all_periods = []\n",
        "\n",
        "for period in reporting_periods:\n",
        "\n",
        "    output = download_and_write_index_file(\n",
        "        output_subdir = raw_index_data_dir,\n",
        "        **period,\n",
        "        **header_content)\n",
        "\n",
        "    record_single_period = read_and_process_index_data(\n",
        "        zipped_output = output,\n",
        "        form_type = form,\n",
        "        **period)\n",
        "\n",
        "    record_all_periods.extend(record_single_period)\n",
        "\n",
        "master_index_all_periods = create_and_write_index_df(\n",
        "    record_all_periods,\n",
        "    master_index_all_periods_file_name,\n",
        "    output_dir = 'data/edgar_wrds_linking/',\n",
        "    **master_index_all_periods_col_specs)"
      ],
      "metadata": {
        "id": "_rXDA7XraZoK"
      },
      "execution_count": null,
      "outputs": []
    }
  ]
}