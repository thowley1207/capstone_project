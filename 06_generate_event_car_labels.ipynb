{
  "nbformat": 4,
  "nbformat_minor": 0,
  "metadata": {
    "colab": {
      "provenance": [],
      "authorship_tag": "ABX9TyMafJVH15zVmNIHziBzMKvL",
      "include_colab_link": true
    },
    "kernelspec": {
      "name": "python3",
      "display_name": "Python 3"
    },
    "language_info": {
      "name": "python"
    }
  },
  "cells": [
    {
      "cell_type": "markdown",
      "metadata": {
        "id": "view-in-github",
        "colab_type": "text"
      },
      "source": [
        "<a href=\"https://colab.research.google.com/github/thowley1207/capstone_project/blob/06/06_generate_event_car_labels.ipynb\" target=\"_parent\"><img src=\"https://colab.research.google.com/assets/colab-badge.svg\" alt=\"Open In Colab\"/></a>"
      ]
    },
    {
      "cell_type": "code",
      "execution_count": null,
      "metadata": {
        "id": "40sZ3mSFoOPy"
      },
      "outputs": [],
      "source": [
        "!pip install --upgrade wrds\n",
        "!wget https://raw.githubusercontent.com/thowley1207/capstone_project/main/colab_initialization/initializer.py\n",
        "\n",
        "import json\n",
        "import pandas as pd\n",
        "import pathlib\n",
        "import numpy as np\n",
        "import requests\n",
        "import zipfile\n",
        "\n",
        "import initializer\n",
        "initializer.initialize_colab()"
      ]
    },
    {
      "cell_type": "code",
      "source": [
        "'''\n",
        "SET PROCESSED DATA SUBDIRECTORIES AND FORM TYPE PREFIX\n",
        "WHEN APPLICABLE, THIS FORM TYPE PREFIX WILL BE USED MOVING FORWARD\n",
        "'''\n",
        "\n",
        "results_data_subdir = 'data/event_study/results/'\n",
        "labels_data_subdir = 'data/event_study/labels/'\n",
        "file_prefix = '8k_'\n",
        "\n",
        "'''\n",
        "ADDITIONAL FILE NAMES CARRIED DOWN FROM PRIOR WORK\n",
        "'''\n",
        "\n",
        "event_car_data_file_name = 'event_car_data.pkl'\n",
        "\n",
        "'''\n",
        "NEW FILE NAMES FOR USE BELOW\n",
        "'''\n",
        "\n",
        "event_car_data_3_bins_file_name = 'event_car_data_3_bins.pkl'\n",
        "event_car_data_2_bins_file_name = 'event_car_data_2_bins.pkl'"
      ],
      "metadata": {
        "id": "5qasmqMrqWU1"
      },
      "execution_count": null,
      "outputs": []
    },
    {
      "cell_type": "code",
      "source": [
        "'''\n",
        "READ IN EVENT CAR DATA\n",
        "'''\n",
        "\n",
        "event_car_data = pd.read_pickle((\n",
        "    results_data_subdir +\n",
        "    file_prefix +\n",
        "    event_car_data_file_name\n",
        "    ))"
      ],
      "metadata": {
        "id": "R7Csa8UwqiSe"
      },
      "execution_count": null,
      "outputs": []
    },
    {
      "cell_type": "markdown",
      "source": [
        " **Step 1:**\n",
        "\n",
        "* **Create Labels Binning CAR / SCAR Data Into Three Bins**\n",
        "    * For each CAR / SCAR column in the event CAR data dataframe, split the results into quartiles\n",
        "    * Replace all raw CAR / SCAR values with integer labels as follows:\n",
        "        1. Label = 0 where event CAR percentile < .25\n",
        "        2. Label = 1 where .25 < event CAR percentile < .75\n",
        "        3. Label = 2 where .75 < event CAR percentile\n",
        "    * This will allow us to try to classify events into three bins using the LLM (positive, negative, neutral)\n"
      ],
      "metadata": {
        "id": "ocn5IuW7rJRc"
      }
    },
    {
      "cell_type": "code",
      "source": [
        "event_car_data_3_bins = event_car_data.copy()\n",
        "\n",
        "for col in [car_col for car_col\n",
        "            in event_car_data_3_bins.columns\n",
        "            if car_col not in ['event_id']]:\n",
        "\n",
        "   event_car_data_3_bins[f\"{col}_bin\"] = pd.qcut(event_car_data_3_bins[col],\n",
        "                                                 q = [0, .25, .5, .75, 1],\n",
        "                                                 labels=False)\n",
        "\n",
        "   event_car_data_3_bins[f\"{col}_bin\"] = event_car_data_3_bins[\n",
        "        f\"{col}_bin\"].where(event_car_data_3_bins[f\"{col}_bin\"] < 2,\n",
        "                            event_car_data_3_bins[f\"{col}_bin\"]-1)\n",
        "\n",
        "event_car_data_3_bins = event_car_data_3_bins.drop(columns = [\n",
        "    car_col for car_col\n",
        "    in event_car_data.columns if car_col not in ['event_id']])\n",
        "\n",
        "\n",
        "event_car_data_3_bins = event_car_data_3_bins.rename(\n",
        "    columns = {col:col.replace('_bin','')\n",
        "    for col in event_car_data_3_bins.columns}\n",
        "    ).drop(columns=['resid_std_error'])"
      ],
      "metadata": {
        "id": "KAmUMrssqi6c"
      },
      "execution_count": null,
      "outputs": []
    },
    {
      "cell_type": "code",
      "source": [
        "event_car_data_3_bins.to_pickle((\n",
        "    labels_data_subdir +\n",
        "    file_prefix +\n",
        "    event_car_data_3_bins_file_name\n",
        "    ))\n",
        "\n",
        "print(f'''Event CAR data 3 bins generated.\n",
        "Output written as {event_car_data_3_bins_file_name}.''')"
      ],
      "metadata": {
        "id": "TL5q-BgUrW0i"
      },
      "execution_count": null,
      "outputs": []
    },
    {
      "cell_type": "markdown",
      "source": [
        " **Step 2:**\n",
        "\n",
        "* **Create Labels Binning CAR / SCAR Data Into Two Bins**\n",
        "    * Using the 3 label CAR dataset created above, create a dataframe binning the CAR data into 2 bins as follows\n",
        "    * Replace all raw CAR / SCAR values with integer labels as follows:\n",
        "        1. Label = 0 where event CAR percentile < .25 or event CAR percentile > .75\n",
        "        2. Label = 1 where .25 < event CAR percentile < .75\n",
        "    * This will allow us to try to classify events into two bins using the LLM (abnormal, neutral)"
      ],
      "metadata": {
        "id": "EMwPcc-ntIaW"
      }
    },
    {
      "cell_type": "code",
      "source": [
        "event_car_data_2_bins = event_car_data_3_bins.copy()\n",
        "\n",
        "for col in [car_col for car_col\n",
        "            in event_car_data_2_bins.columns\n",
        "            if car_col not in ['event_id']]:\n",
        "\n",
        "    event_car_data_2_bins[col] = event_car_data_2_bins[\n",
        "        col].where(event_car_data_2_bins[col] == 1,\n",
        "                   0)"
      ],
      "metadata": {
        "id": "Em9PWyocrS-y"
      },
      "execution_count": null,
      "outputs": []
    },
    {
      "cell_type": "code",
      "source": [
        "event_car_data_2_bins.to_pickle((\n",
        "    labels_data_subdir +\n",
        "    file_prefix +\n",
        "    event_car_data_2_bins_file_name\n",
        "    ))\n",
        "\n",
        "print(f'''Event CAR data 2 bins generated.\n",
        "Output written as {event_car_data_2_bins_file_name}.''')"
      ],
      "metadata": {
        "id": "8YHJowFCqi-o"
      },
      "execution_count": null,
      "outputs": []
    }
  ]
}
