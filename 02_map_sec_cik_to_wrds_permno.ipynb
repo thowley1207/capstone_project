{
  "nbformat": 4,
  "nbformat_minor": 0,
  "metadata": {
    "colab": {
      "provenance": [],
      "authorship_tag": "ABX9TyPdgnpkpbM2ESziL5+hQY9c",
      "include_colab_link": true
    },
    "kernelspec": {
      "name": "python3",
      "display_name": "Python 3"
    },
    "language_info": {
      "name": "python"
    }
  },
  "cells": [
    {
      "cell_type": "markdown",
      "metadata": {
        "id": "view-in-github",
        "colab_type": "text"
      },
      "source": [
        "<a href=\"https://colab.research.google.com/github/thowley1207/capstone_project/blob/02/02_map_sec_cik_to_wrds_permno.ipynb\" target=\"_parent\"><img src=\"https://colab.research.google.com/assets/colab-badge.svg\" alt=\"Open In Colab\"/></a>"
      ]
    },
    {
      "cell_type": "code",
      "execution_count": null,
      "metadata": {
        "id": "mQ6p49TEbK-f"
      },
      "outputs": [],
      "source": [
        "!pip install --upgrade wrds\n",
        "!wget https://raw.githubusercontent.com/thowley0824/capstone/main/colab_initialization/initializer.py\n",
        "\n",
        "import json\n",
        "import pandas as pd\n",
        "import pathlib\n",
        "import numpy as np\n",
        "import requests\n",
        "import zipfile\n",
        "\n",
        "import initializer\n",
        "initializer.initialize_colab()\n",
        "db = initializer.initialize_wrds_connection()"
      ]
    },
    {
      "cell_type": "code",
      "source": [
        "'''\n",
        "SET DATA SUBDIRECTORIES AND FORM TYPE PREFIX\n",
        "WHEN APPLICABLE, THIS FORM TYPE PREFIX WILL BE USED MOVING FORWARD\n",
        "'''\n",
        "data_subdir = 'data/edgar_wrds_linking/'\n",
        "file_prefix = '8k_'\n",
        "\n",
        "'''\n",
        "FILE NAMES CARRIED DOWN FROM PRIOR WORK\n",
        "'''\n",
        "master_index_all_periods_file_name = 'master_index_all_periods.pkl'\n",
        "\n",
        "'''\n",
        "NEW FILE NAMES FOR USE BELOW\n",
        "'''\n",
        "permno_cik_map_file_name = 'permno_cik_map.pkl'\n",
        "\n",
        "filtered_index_data_w_permno_file_name = (\n",
        "    'filtered_index_data_w_permno.pkl')"
      ],
      "metadata": {
        "id": "luVGe46ZcKeG"
      },
      "execution_count": null,
      "outputs": []
    },
    {
      "cell_type": "code",
      "source": [
        "'''\n",
        "READ IN COMBINED ALL PERIOD MASTER INDEX DATA\n",
        "'''\n",
        "\n",
        "master_index_all_periods = pd.read_pickle((\n",
        "    data_subdir +\n",
        "    file_prefix +\n",
        "    master_index_all_periods_file_name\n",
        "    ))"
      ],
      "metadata": {
        "id": "lL9v_R87cnjc"
      },
      "execution_count": null,
      "outputs": []
    },
    {
      "cell_type": "markdown",
      "source": [
        "### **QUERY HELPER FUNCTION**"
      ],
      "metadata": {
        "id": "X4v0PprObynC"
      }
    },
    {
      "cell_type": "code",
      "source": [
        "def execute_wrds_query(query_content,\n",
        "                       wrds_session = db,\n",
        "                       output_directory = 'data/',\n",
        "                       output_file = None):\n",
        "\n",
        "    query_result = db.raw_sql(query_content)\n",
        "\n",
        "    if output_file is not None:\n",
        "        output_path = f\"\"\"{output_directory}{output_file}\"\"\"\n",
        "        print(f\"\"\"Writing query result to: {output_path}\"\"\")\n",
        "\n",
        "        if output_file.endswith('.csv'):\n",
        "            query_result.to_csv(output_path)\n",
        "        elif output_file.endswith('.pkl'):\n",
        "            query_result.to_pickle(output_path)\n",
        "        else:\n",
        "            raise Exception(\"Invalid File Format Provided For Output\")\n",
        "        print(f\"\"\"Query result successfully written.\"\"\")\n",
        "    else:\n",
        "        print(f\"\"\"Warning: output is not saved to Google Drive.\"\"\")\n",
        "\n",
        "    return query_result"
      ],
      "metadata": {
        "id": "j1BKSqQ7bt2N"
      },
      "execution_count": null,
      "outputs": []
    },
    {
      "cell_type": "markdown",
      "source": [
        "**Generate A Lookup Table By Linking the Following Data**\\\n",
        "(For The Specified Event Periods)**:**\n",
        "\n",
        "---\n",
        "*   gvkey, cusip, cik from **comp.funda**\n",
        "      - cusip = most recent cusip for each company\n",
        "\n",
        "TO\n",
        "\n",
        "*   permno, ncusip from **crsp.dse_names**\n",
        "      - ncusip = all cusips related to a given permno over the period\n",
        "\n",
        "ON\n",
        "\n",
        "* **substring(comp.funda.cusip, 1, 8) = crsp.dse_names.ncusip**\n",
        "\n",
        "---\n",
        "\n",
        "AND\n",
        "\n",
        "---\n",
        "\n",
        "*   permno from **crsp.dsf**\n",
        "\n",
        "TO\n",
        "\n",
        "*   permno, ncusip from **crsp.dse_names**\n",
        "\n",
        "ON\n",
        "\n",
        "*  **crsp.dsf.permno = crsp.dse_names.permno**\n",
        "\n",
        "---\n",
        "\n",
        "The resultant lookup table is a map containing pairs of the form:\n",
        "\n",
        "*  **crsp.dsf.permno, comp.funda.cik**\n",
        "\n",
        "After minor cleaning for irregularities and formatting, this will allow us to map the CIKs from the scraped EDGAR data to their respective daily CRSP time series data."
      ],
      "metadata": {
        "id": "uP5dLcAJb8As"
      }
    },
    {
      "cell_type": "code",
      "source": [
        "q_permno_cik_map = f\"\"\"\n",
        "with\n",
        "comp_funda as\n",
        "(\n",
        "    select distinct\n",
        "        gvkey,\n",
        "        substring(cusip,1,8) as cusip,\n",
        "        cik\n",
        "  from comp.funda\n",
        "    where datadate between '2005-01-01' and '2020-01-01'\n",
        "    and cik is not null\n",
        "    and cusip is not null\n",
        "),\n",
        "\n",
        "crsp_dse_names as\n",
        "(\n",
        "    select distinct\n",
        "        permno,\n",
        "        ncusip as cusip\n",
        "    from crsp.dsenames\n",
        "    where shrcd in (10, 11)\n",
        "    and ncusip is not null\n",
        ")\n",
        "select distinct\n",
        "    crsp_dsf.permno,\n",
        "    comp_funda.cik\n",
        "from crsp.dsf crsp_dsf\n",
        "    inner join crsp_dse_names\n",
        "        on crsp_dsf.permno = crsp_dse_names.permno\n",
        "    inner join comp_funda\n",
        "        on crsp_dse_names.cusip = comp_funda.cusip\n",
        "\"\"\"\n",
        "\n",
        "permno_cik_map = execute_wrds_query(q_permno_cik_map\n",
        "                                    ).drop_duplicates(subset=['permno'],\n",
        "                                                      keep=False)\n",
        "\n",
        "permno_cik_map['cik'] = permno_cik_map['cik'].str[3:].astype(int)"
      ],
      "metadata": {
        "id": "r_efCT2Db2lf"
      },
      "execution_count": null,
      "outputs": []
    },
    {
      "cell_type": "code",
      "source": [
        "permno_cik_map.to_pickle((\n",
        "    data_subdir +\n",
        "    file_prefix +\n",
        "    permno_cik_map_file_name\n",
        "    ))"
      ],
      "metadata": {
        "id": "sYmBxVBQcbd-"
      },
      "execution_count": null,
      "outputs": []
    },
    {
      "cell_type": "markdown",
      "source": [
        "**MAP 8k data to PERMNOs by CIK**\n",
        "- Only keep data that has am existing PERMNO\n",
        "- This map will be used both to:\n",
        "  - Facilatate the event study (bc it needs the event dates from the SEC data)\n",
        "  - Facilatate the LLM fine-tuning / training / output analysis\n",
        "    - LLM needs to be fine tuned via being trained on both 8k data as well as the event study output\n",
        "    - The actual output analysis is predicated on comparing predictions to real performance\n",
        "    - None of this can be done without having a way to link SEC data and CRSP data for the entities"
      ],
      "metadata": {
        "id": "zq_LMq48cgxh"
      }
    },
    {
      "cell_type": "code",
      "source": [
        "filtered_index_data_w_permno = master_index_all_periods.merge(permno_cik_map,\n",
        "                                                              on='cik')"
      ],
      "metadata": {
        "id": "PYhO36i5chyp"
      },
      "execution_count": null,
      "outputs": []
    },
    {
      "cell_type": "code",
      "source": [
        "filtered_index_data_w_permno.to_pickle((\n",
        "    data_subdir +\n",
        "\n",
        "    filtered_index_data_w_permno_file_name\n",
        "    ))"
      ],
      "metadata": {
        "id": "9NCVNw3edLFw"
      },
      "execution_count": null,
      "outputs": []
    }
  ]
}