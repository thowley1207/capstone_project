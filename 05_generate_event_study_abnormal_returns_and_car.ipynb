{
  "nbformat": 4,
  "nbformat_minor": 0,
  "metadata": {
    "colab": {
      "provenance": [],
      "authorship_tag": "ABX9TyMY4eX8PaujEPrYhkAxL7j9",
      "include_colab_link": true
    },
    "kernelspec": {
      "name": "python3",
      "display_name": "Python 3"
    },
    "language_info": {
      "name": "python"
    }
  },
  "cells": [
    {
      "cell_type": "markdown",
      "metadata": {
        "id": "view-in-github",
        "colab_type": "text"
      },
      "source": [
        "<a href=\"https://colab.research.google.com/github/thowley1207/capstone_project/blob/05/05_generate_event_study_abnormal_returns_and_car.ipynb\" target=\"_parent\"><img src=\"https://colab.research.google.com/assets/colab-badge.svg\" alt=\"Open In Colab\"/></a>"
      ]
    },
    {
      "cell_type": "code",
      "execution_count": null,
      "metadata": {
        "id": "WBLie4FFkYhr"
      },
      "outputs": [],
      "source": [
        "# Install wrds w/no dependencies bc we don't query wrds in this script\n",
        "# Initializer still needs wrds lib installed\n",
        "# However, installing its dependencies causes numpy version to be\n",
        "#   incompatible with the required version to run regression\n",
        "!pip install --no-dependencies wrds\n",
        "\n",
        "!wget https://raw.githubusercontent.com/thowley0824/capstone/main/colab_initialization/initializer.py\n",
        "\n",
        "import json\n",
        "import pandas as pd\n",
        "import pathlib\n",
        "import matplotlib\n",
        "import numpy as np\n",
        "import requests\n",
        "import statsmodels.api as sm\n",
        "import zipfile\n",
        "\n",
        "from matplotlib import pyplot as plt\n",
        "\n",
        "import initializer\n",
        "initializer.initialize_colab()"
      ]
    },
    {
      "cell_type": "code",
      "source": [
        "'''\n",
        "SET DATA SUBDIRECTORIES AND FORM TYPE PREFIX\n",
        "WHEN APPLICABLE, THIS FORM TYPE PREFIX WILL BE USED MOVING FORWARD\n",
        "'''\n",
        "\n",
        "returns_data_subdir = 'data/event_study/returns/'\n",
        "results_data_subdir = 'data/event_study/results/'\n",
        "file_prefix = '8k_'\n",
        "\n",
        "'''\n",
        "ADDITIONAL FILE NAMES CARRIED DOWN FROM PRIOR WORK\n",
        "'''\n",
        "\n",
        "event_study_ret_data_file_names = [\n",
        "    'event_study_ret_data_pt_1.pkl',\n",
        "    'event_study_ret_data_pt_2.pkl',\n",
        "    'event_study_ret_data_pt_3.pkl',\n",
        "    'event_study_ret_data_pt_4.pkl']\n",
        "\n",
        "est_win_data_file_names = [\n",
        "    'est_win_data_pt_1.pkl',\n",
        "    'est_win_data_pt_2.pkl',\n",
        "    'est_win_data_pt_3.pkl',\n",
        "    'est_win_data_pt_4.pkl']\n",
        "\n",
        "'''\n",
        "NEW FILE NAMES FOR USE BELOW\n",
        "'''\n",
        "\n",
        "regression_params_file_name = 'regression_params.pkl'\n",
        "event_window_data_file_name = 'event_window_data.pkl'\n",
        "event_car_data_file_name = 'event_car_data.pkl'"
      ],
      "metadata": {
        "id": "2KhsaSEQlgRX"
      },
      "execution_count": null,
      "outputs": []
    },
    {
      "cell_type": "markdown",
      "source": [
        "**Define a helper function for use in fitting each event's estimation period OLS regression model:**\n",
        "\n",
        "        generate_event_regression_data(estimation_window_df, id)\n",
        "\n",
        "* **Function input parameters are:**\n",
        "        # The dataframe containing combined return data across all events within each respective event's event window:\n",
        "            estimation_window_df\n",
        "\n",
        "        # Event_id of the individual event you are generating regression data for:\n",
        "            id\n",
        "\n",
        "* **Function steps through the following sequence:**\n",
        "    * Creates a dictionary **event_regression_dict** containing a single entry:\n",
        "            event_regression_dict['event_id'] = id\n",
        "    * Creates a dataframe **event_est_win_data** from **estimation_window_df** containing only the data where the event_id = id\n",
        "            estimation_window_df[estimation_window_df['event_id'] == event].copy()\n",
        "    * Create vector **X** equal to the dataframe's market return column and add a constant\n",
        "            X = event_est_win_data[['mkt_return']]\n",
        "            X = sm.add_constant(X)\n",
        "    * Create vector **y** from the dataframe's security return column\n",
        "            y = event_est_win_data[['sec_return']]\n",
        "\n",
        "    * Use the stats_models OLS function to create **mod**, an object equal to the OLS regression model object using X and y\n",
        "    * Create **est**, an object containing the results of the fit regression model\n",
        "            mod = sm.OLS(y,X)\n",
        "            est = mod.fit()\n",
        "    * Using the attributes of the fitted model object **est**, add the following values to the **event_regression_dict**:\n",
        "\n",
        "            # The intercept of the fitted OLS model\n",
        "            event_regression_dict['alpha'] = est.params['const']\n",
        "            \n",
        "            # The slope coefficient of the fitted OLS model\n",
        "            event_regression_dict['beta'] = est.params['mkt_return']\n",
        "\n",
        "            # The standard error of the fitted model's residuals\n",
        "            event_regression_dict['resid_std_error']** = np.sqrt(est.mse_resid)\n",
        "\n",
        "* **Function returns:**\n",
        "        # The previously created dict containing the event id & relevant regression outputs\n",
        "        event_regression_dict"
      ],
      "metadata": {
        "id": "E5Q5amkvlaq3"
      }
    },
    {
      "cell_type": "code",
      "source": [
        "def generate_event_regression_data(estimation_window_df,\n",
        "                                   event):\n",
        "\n",
        "    event_regression_dict = {'event_id':event}\n",
        "\n",
        "    event_est_win_data = estimation_window_df[estimation_window_df[\n",
        "            'event_id'] == event].copy()\n",
        "\n",
        "    X = event_est_win_data[['mkt_return']]\n",
        "    y = event_est_win_data[['sec_return']]\n",
        "    X = sm.add_constant(X)\n",
        "\n",
        "    mod = sm.OLS(y,X)\n",
        "    est = mod.fit()\n",
        "\n",
        "    event_regression_dict['alpha'] = est.params['const']\n",
        "    event_regression_dict['beta'] = est.params['mkt_return']\n",
        "    event_regression_dict['resid_std_error'] = np.sqrt(est.mse_resid)\n",
        "\n",
        "    return event_regression_dict"
      ],
      "metadata": {
        "id": "tDEF0JWyroKQ"
      },
      "execution_count": null,
      "outputs": []
    },
    {
      "cell_type": "markdown",
      "source": [
        " **Step 1: Generate Regression Parameters For Each Event**\n",
        "\n",
        "\n",
        "\n",
        "**Load the full event study return data into a dataframe and filter to create a dataframe containing only data required to generate the fitted OLS model for each event**\n",
        "\n",
        "* Data is read from the file **event_study_ret_data.pkl** created earlier\n",
        "\n",
        "**Filter event_study_return_data to create a dataframe containing only data required to generate the fitted OLS model for each event**\n",
        "\n",
        "* The filtered dataframe **est_win_data** is created using the **est_per_flag** constructed earlier to retain only data within the estimation period for each individual event (estimation period is the trailing 1 year data ex trailing 1 quarter period relative to the respective event date)\n",
        "* Drop all columns in est_win_data not required for fitting the regression model; these are:\n",
        "    * **event_id**, for future use as a unique identifier of individual events / a key for joining to other data\n",
        "    * **mkt_return** the daily index return data\n",
        "    * **sec_return** the daily individual security return data\n",
        "\n",
        "** Create a dataframe containing regresssion data for all event study events**\n",
        "\n",
        "* Each row in this dataframe **regression_params** contains the output from calling the **generate_event_regression_data** function defined above on an individual event from the full set of events\n",
        "* The dataframe is created using Pandas **from_dict** constructor\n",
        "    * Constructor is passed a list_comprehension, with each item in the list defined as an individual call of the **generate_event_regression_data** function\n",
        "    * This list comprehension defines a list containing single-row dicts containing the regression data for each event in the event study"
      ],
      "metadata": {
        "id": "GYPi4LUsltb-"
      }
    },
    {
      "cell_type": "code",
      "source": [
        "regression_params_lst = []\n",
        "for i in range(4):\n",
        "\n",
        "    est_win_data = pd.read_pickle((\n",
        "        returns_data_subdir +\n",
        "        file_prefix +\n",
        "        est_win_data_file_names[i]\n",
        "        ))\n",
        "\n",
        "    regression_params = pd.DataFrame.from_dict([\n",
        "        generate_event_regression_data(estimation_window_df = est_win_data,\n",
        "                                       event = id\n",
        "                                      ) for id in est_win_data['event_id'\n",
        "                                      ].unique()])\n",
        "\n",
        "    regression_params_lst.append(regression_params)\n",
        "\n",
        "    print(f'''Regression parameters part {i} generated.\n",
        "    Output added to regression parameters list.''')"
      ],
      "metadata": {
        "id": "07oFXztFlZ6f"
      },
      "execution_count": null,
      "outputs": []
    },
    {
      "cell_type": "code",
      "source": [
        "regression_params = pd.concat(regression_params_lst)\n",
        "\n",
        "regression_params.to_pickle((\n",
        "        results_data_subdir +\n",
        "        file_prefix +\n",
        "        regression_params_file_name\n",
        "        ))\n",
        "\n",
        "print(f'''Combined regression parameters generated.\n",
        "Output written as {regression_params_file_name}''')"
      ],
      "metadata": {
        "id": "vbyh5Q72msh8"
      },
      "execution_count": null,
      "outputs": []
    },
    {
      "cell_type": "markdown",
      "source": [
        " **Step 2:**\n",
        "\n",
        "* **Create Event Study Event Window Return Data With Regression Results**\n",
        "    * Read in each event study return data file\n",
        "    * Filter this event study return data to only include the event window\n",
        "    * Merge this to the regression parameters generated above\n",
        "    * Use the actual event study returns and the regression parameters to determine abnormal returns for each event window\n"
      ],
      "metadata": {
        "id": "czeFEzDwnKmw"
      }
    },
    {
      "cell_type": "code",
      "source": [
        "event_window_data_lst = []\n",
        "\n",
        "for i in range(4):\n",
        "\n",
        "    event_study_ret_data = pd.read_pickle((\n",
        "        returns_data_subdir +\n",
        "        file_prefix +\n",
        "        event_study_ret_data_file_names[i]\n",
        "        ))\n",
        "\n",
        "    event_window_data = event_study_ret_data[\n",
        "        event_study_ret_data['event_wind_flag'] == 1]\n",
        "\n",
        "    event_window_data = event_window_data.merge(\n",
        "        regression_params,\n",
        "        how = 'left',\n",
        "        on='event_id')\n",
        "\n",
        "    event_window_data['abnormal_return'] = event_window_data[\n",
        "        'sec_return'] - (\n",
        "            event_window_data['alpha'] + (\n",
        "            event_window_data['beta'] * event_window_data['mkt_return'])\n",
        "            )\n",
        "\n",
        "    event_window_data['relative_date'] = event_window_data.groupby(\n",
        "        'event_id').cumcount()-5\n",
        "\n",
        "    event_window_data_lst.append(event_window_data)\n",
        "\n",
        "    print(f'''Event window data part {i+1} generated.\n",
        "    Output added to event window data list.''')\n",
        "\n"
      ],
      "metadata": {
        "id": "cdh1b7mCmarz"
      },
      "execution_count": null,
      "outputs": []
    },
    {
      "cell_type": "code",
      "source": [
        "event_window_data = pd.concat(event_window_data_lst)\n",
        "\n",
        "event_window_data.to_pickle((\n",
        "        results_data_subdir +\n",
        "        file_prefix +\n",
        "        event_window_data_file_name\n",
        "        ))\n",
        "\n",
        "print(f'''Combined event window data generated.\n",
        "Output written as {event_window_data_file_name}.''')"
      ],
      "metadata": {
        "id": "a8isjmmLoJsj"
      },
      "execution_count": null,
      "outputs": []
    },
    {
      "cell_type": "markdown",
      "source": [
        " **Step 3:**\n",
        "\n",
        "* **Calculate Event Study CAR Data**\n",
        "    * Define all the possible CAR window ranges for use in calculation\n",
        "    * Using the date relative to the event and the corresponding abnormal returns from the event window data, calculate the CAR for every possible CAR window\n",
        "    * Additionally, calculate the standardized CAR results by dividing each CAR value by the events residual standard error from the regression generated using the event's respective event window\n",
        "    * We will run the LLM fine tuning using both raw and standardized CAR results, to see if standardizing CAR leads to more or less accurate classification\n",
        "    * We are doing this since we are using events across a large time range, and the variance in returns may be different in different periods within this range\n"
      ],
      "metadata": {
        "id": "VDRb1ubEov3p"
      }
    },
    {
      "cell_type": "code",
      "source": [
        "event_abnormal_returns = event_window_data[['event_id',\n",
        "                                            'relative_date',\n",
        "                                            'abnormal_return']]\n",
        "\n",
        "event_car_data = event_window_data[['event_id',\n",
        "                                    'resid_std_error']\n",
        "                                   ].drop_duplicates()\n",
        "\n",
        "car_window_ranges = [(-5,5), (-4,4), (-3,3),\n",
        "                     (-2,2), (-1,1), (-1,2),\n",
        "                     (-1,3), (-1,4), (-1,5)]\n",
        "\n",
        "for window in car_window_ranges:\n",
        "\n",
        "    car_col = f'car_{window[0]}_{window[1]}'\n",
        "    scar_col = f's{car_col}'\n",
        "    num_days = window[1] - window[0] + 1\n",
        "\n",
        "    car_window = range(window[0], window[1]+1)\n",
        "\n",
        "    ret_window = event_abnormal_returns[\n",
        "        ['event_id',\n",
        "         'abnormal_return']\n",
        "        ][event_abnormal_returns['relative_date'].isin(car_window)]\n",
        "\n",
        "    car = ret_window.groupby(\n",
        "        'event_id').sum().reset_index().rename(\n",
        "            columns = {'abnormal_return':car_col})\n",
        "\n",
        "    event_car_data = event_car_data.merge(car,\n",
        "                                          how = 'left',\n",
        "                                          on='event_id')\n",
        "\n",
        "    event_car_data[scar_col] = event_car_data[car_col].div(\n",
        "        (np.sqrt(num_days)*event_car_data['resid_std_error'])\n",
        "        )"
      ],
      "metadata": {
        "id": "1Ma1atgrpDf9"
      },
      "execution_count": null,
      "outputs": []
    },
    {
      "cell_type": "code",
      "source": [
        "event_car_data.to_pickle((\n",
        "    results_data_subdir +\n",
        "    file_prefix +\n",
        "    event_car_data_file_name\n",
        "    ))\n",
        "\n",
        "print(f'''Event CAR data generated.\n",
        "Output written as {event_car_data_file_name}.''')"
      ],
      "metadata": {
        "id": "qR4cNokDqK_i"
      },
      "execution_count": null,
      "outputs": []
    }
  ]
}